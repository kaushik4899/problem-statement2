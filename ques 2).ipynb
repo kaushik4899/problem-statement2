{
 "cells": [
  {
   "cell_type": "code",
   "execution_count": 4,
   "id": "eca18982",
   "metadata": {},
   "outputs": [
    {
     "name": "stdout",
     "output_type": "stream",
     "text": [
      "Valid_Triangle\n"
     ]
    }
   ],
   "source": [
    "#Your task is to complete the validate_triangle and validate_rectangle functions for the classes\n",
    "# Python3 program to check if three\n",
    "# sides form a triangle or not\n",
    "\n",
    "\n",
    "def checkValidity(a, b, c):\n",
    "\t# check condition\n",
    "    if (a + b <= c) or (a + c <= b) or (b + c <= a) :\n",
    "        return False\n",
    "    else:\n",
    "        return True\t\n",
    "\n",
    "# driver code\n",
    "a = 3\n",
    "b = 4\n",
    "c = 5\n",
    "if checkValidity(a, b, c):\n",
    "    print(\"Valid_Triangle\")\n",
    "else:\n",
    "    print(\"Invalid_Triangle\")"
   ]
  },
  {
   "cell_type": "code",
   "execution_count": 5,
   "id": "d2d8560e",
   "metadata": {},
   "outputs": [
    {
     "name": "stdout",
     "output_type": "stream",
     "text": [
      "Valid_Rectangle\n"
     ]
    }
   ],
   "source": [
    "# A simple program to find if given 4\n",
    "# values can represent 4 sides of rectangle\n",
    "\n",
    "\n",
    "\n",
    "\n",
    "def isRectangle(a, b, c, d):\n",
    "\n",
    "\t# check all sides of rectangle combinations\n",
    "    if (a == b and d == c) or (a == c and b == d) or (a == d and b == c):\n",
    "        return True\n",
    "    else:\n",
    "        return False\n",
    "\n",
    "\n",
    "\n",
    "a, b, c, d = 2, 4, 2, 4\n",
    "print(\"Valid_Rectangle\" if isRectangle(a, b, c, d) else \"Invalid_rectangle\")\n",
    "\n"
   ]
  },
  {
   "cell_type": "code",
   "execution_count": null,
   "id": "ca767a37",
   "metadata": {},
   "outputs": [],
   "source": []
  }
 ],
 "metadata": {
  "kernelspec": {
   "display_name": "Python 3 (ipykernel)",
   "language": "python",
   "name": "python3"
  },
  "language_info": {
   "codemirror_mode": {
    "name": "ipython",
    "version": 3
   },
   "file_extension": ".py",
   "mimetype": "text/x-python",
   "name": "python",
   "nbconvert_exporter": "python",
   "pygments_lexer": "ipython3",
   "version": "3.9.12"
  }
 },
 "nbformat": 4,
 "nbformat_minor": 5
}
